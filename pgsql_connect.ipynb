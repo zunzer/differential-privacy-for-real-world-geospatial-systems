{
 "cells": [
  {
   "cell_type": "markdown",
   "metadata": {},
   "source": [
    "### DOCUMENTATION\n",
    "This notebook is intended to setup a PostgreSQL table with the data from the source csv-file.\n",
    "\n",
    "#### INPUT\n",
    "Use the \"settings.ini\"-file to set your database credentials, as well as connection parameters, the table name and more. \n",
    "This file gets parsed as configuration for the connection to the database as well as the definition of parameters.\n",
    "\n",
    "#### PREPARATION\n",
    "Make sure you have a running installation of [PostgreSQL](https://www.postgresql.org/download/) and have created a database via either the CLI or a GUI (e.g. [DBeaver](https://dbeaver.io/), [pgAdmin4](https://www.pgadmin.org/download/))\n",
    "Also, make sure to install the [PostGIS](https://postgis.net/documentation/getting_started/#installing-postgis) extension for PostgreSQL.\n",
    "\n",
    "#### WORKFLOW\n",
    "The following is a description of steps which the notebook works through.\n",
    "- the notebook creates an connection with the exisiting PostgreSQL database\n",
    "- if not done already, the PostGIS extension will be activated in PostgreSQL\n",
    "- the source csv-file is read and as a geopands dataframe, with the latitude and longitude columns being converted into a PostGIS compatible geometric point data type\n",
    "- NULL are set correctly and the columns are renamed in a consistent format\n",
    "- finally the cleaned geopandas dataframe is used to create a table inside the PostgreSQL database\n",
    "\n",
    "Besides the INPUT and PREPARATION step no user action is required."
   ]
  },
  {
   "cell_type": "code",
   "execution_count": 1,
   "metadata": {},
   "outputs": [],
   "source": [
    "import geopandas as gpd\n",
    "from sqlalchemy import create_engine, text, SmallInteger, Integer\n",
    "from sqlalchemy.exc import ProgrammingError\n",
    "import numpy as np\n",
    "from configparser import ConfigParser"
   ]
  },
  {
   "cell_type": "code",
   "execution_count": 2,
   "metadata": {},
   "outputs": [],
   "source": [
    "config = ConfigParser()\n",
    "config.read(\"database_settings.ini\")\n",
    "ini = config[\"default\"]"
   ]
  },
  {
   "cell_type": "code",
   "execution_count": 3,
   "metadata": {},
   "outputs": [],
   "source": [
    "engine = create_engine(f\"postgresql://{ini['db_user']}:{ini['db_password']}@{ini['db_host']}:{ini['db_port']}/{ini['db_name']}\")"
   ]
  },
  {
   "cell_type": "code",
   "execution_count": 4,
   "metadata": {},
   "outputs": [],
   "source": [
    "conn = engine.connect()"
   ]
  },
  {
   "cell_type": "code",
   "execution_count": 5,
   "metadata": {},
   "outputs": [
    {
     "name": "stdout",
     "output_type": "stream",
     "text": [
      "(psycopg2.errors.DuplicateObject) FEHLER:  Erweiterung »postgis« existiert bereits\n",
      "\n",
      "[SQL: CREATE EXTENSION postgis]\n",
      "(Background on this error at: https://sqlalche.me/e/20/f405)\n"
     ]
    }
   ],
   "source": [
    "try:\n",
    "    conn.execute(text(\"CREATE EXTENSION postgis\"))\n",
    "    conn.execute(text(\"CREATE EXTENSION postgis_topology\"))\n",
    "    conn.commit()\n",
    "except ProgrammingError as e:\n",
    "    conn.rollback()\n",
    "    print(e)\n"
   ]
  },
  {
   "cell_type": "code",
   "execution_count": 6,
   "metadata": {},
   "outputs": [
    {
     "name": "stdout",
     "output_type": "stream",
     "text": [
      "[('POSTGIS=\"3.3.2 3.3.2\" [EXTENSION] PGSQL=\"150\" GEOS=\"3.11.1-CAPI-1.17.1\" PROJ=\"7.2.1\" LIBXML=\"2.9.9\" LIBJSON=\"0.12\" LIBPROTOBUF=\"1.2.1\" WAGYU=\"0.5.0 (Internal)\" TOPOLOGY',)]\n"
     ]
    }
   ],
   "source": [
    "try:\n",
    "    result = conn.execute(text(\"SELECT postgis_full_version()\"))\n",
    "    conn.commit()\n",
    "    print(result.fetchall())\n",
    "except ProgrammingError as e:\n",
    "    conn.rollback()\n",
    "    print(e)\n",
    "    print(\"Error: PostGIS isn't installed correctly!\")"
   ]
  },
  {
   "cell_type": "code",
   "execution_count": 7,
   "metadata": {},
   "outputs": [],
   "source": [
    "dataset = gpd.GeoDataFrame.from_file(ini[\"path_to_csv\"])\n",
    "dataset = gpd.GeoDataFrame(dataset, geometry=gpd.points_from_xy(dataset.longitude, dataset.latitude), crs=\"EPSG:4326\")\n",
    "\n",
    "dataset = dataset.rename(columns={'geometry':'geom'}).set_geometry('geom')"
   ]
  },
  {
   "cell_type": "code",
   "execution_count": 8,
   "metadata": {},
   "outputs": [],
   "source": [
    "dataset[\"Reviews\"] = np.where(dataset['Reviews'].str.contains(\"nil\", case=False), np.nan, dataset['Reviews'])"
   ]
  },
  {
   "cell_type": "code",
   "execution_count": 9,
   "metadata": {},
   "outputs": [],
   "source": [
    "dataset.drop([\"latitude\", \"longitude\"], axis=1, inplace=True)"
   ]
  },
  {
   "cell_type": "code",
   "execution_count": 10,
   "metadata": {},
   "outputs": [],
   "source": [
    "dataset.rename(inplace=True, columns={\n",
    "    'Age': 'age',\n",
    "    'Gender': 'gender',\n",
    "    'Marital Status': 'marital_status',\n",
    "    'Occupation': 'occupation',\n",
    "    'Monthly Income': 'monthly_income',\n",
    "    'Educational Qualifications': 'education',\n",
    "    'Family size': 'family_size',\n",
    "    'Pin code': 'pin_code',\n",
    "    'Medium (P1)': 'medium_p1',\n",
    "    'Medium (P2)': 'medium_p2',\n",
    "    'Meal(P1)': 'meal_p1',\n",
    "    'Meal(P2)': 'meal_p2',\n",
    "    'Perference(P1)': 'preference_p1',\n",
    "    'Perference(P2)': 'preference_p2',\n",
    "    'Ease and convenient': 'ease_and_convenience',\n",
    "    'Time saving': 'time_saving',\n",
    "    'More restaurant choices': 'more_restaurant_choices',\n",
    "    'Easy Payment option': 'easy_payment_option',\n",
    "    'More Offers and Discount': 'more_offers_and_discounts',\n",
    "    'Good Food quality': 'good_food_quality',\n",
    "    'Good Tracking system': 'good_tracking_system',\n",
    "    'Self Cooking': 'self_cooking',\n",
    "    'Health Concern': 'health_concern',\n",
    "    'Late Delivery': 'late_delivery',\n",
    "    'Poor Hygiene': 'poor_hygiene',\n",
    "    'Bad past experience': 'bad_past_experience',\n",
    "    'Unavailability': 'unavailable',\n",
    "    'Unaffordable': 'unaffordable',\n",
    "    'Long delivery time': 'long_delivery_time',\n",
    "    'Delay of delivery person getting assigned': 'delivery_assignment_delay',\n",
    "    'Delay of delivery person picking up food': 'delivery_pickup_delay',\n",
    "    'Wrong order delivered': 'wrong_order',\n",
    "    'Missing item': 'missing_item',\n",
    "    'Order placed by mistake': 'ordered_by_mistake',\n",
    "    'Influence of time': 'time_influence',\n",
    "    'Order Time': 'order_time',\n",
    "    'Maximum wait time': 'max_wait_time',\n",
    "    'Residence in busy location': 'busy_location_residence',\n",
    "    'Google Maps Accuracy': 'google_maps_accuracy',\n",
    "    'Good Road Condition': 'good_road_condition',\n",
    "    'Low quantity low time': 'low_quantity_low_time',\n",
    "    'Delivery person ability': 'deliver_person_availability',\n",
    "    'Influence of rating': 'rating_influence',\n",
    "    'Less Delivery time': 'less_delivery_time',\n",
    "    'High Quality of package': 'high_package_quality',\n",
    "    'Number of calls': 'call_number',\n",
    "    'Politeness': 'politeness',\n",
    "    'Freshness': 'freshness',\n",
    "    'Temperature': 'temperature',\n",
    "    'Good Taste': 'good_taste',\n",
    "    'Good Quantity': 'good_quantity',\n",
    "    'Output': 'output',\n",
    "    'Reviews': 'reviews',\n",
    "})"
   ]
  },
  {
   "cell_type": "code",
   "execution_count": 11,
   "metadata": {},
   "outputs": [],
   "source": [
    "dataset.to_postgis(ini[\"table_name\"], engine, index=True, if_exists=\"replace\",  dtype={\"age\": SmallInteger(), \"family_size\": SmallInteger(), \"pin_code\": Integer()})"
   ]
  },
  {
   "cell_type": "code",
   "execution_count": 12,
   "metadata": {},
   "outputs": [],
   "source": [
    "conn.close()"
   ]
  }
 ],
 "metadata": {
  "kernelspec": {
   "display_name": "Python 3",
   "language": "python",
   "name": "python3"
  },
  "language_info": {
   "codemirror_mode": {
    "name": "ipython",
    "version": 3
   },
   "file_extension": ".py",
   "mimetype": "text/x-python",
   "name": "python",
   "nbconvert_exporter": "python",
   "pygments_lexer": "ipython3",
   "version": "3.8.13"
  }
 },
 "nbformat": 4,
 "nbformat_minor": 2
}
